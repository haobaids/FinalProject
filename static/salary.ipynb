{
 "cells": [
  {
   "cell_type": "code",
   "execution_count": null,
   "metadata": {},
   "outputs": [],
   "source": [
    "import pandas as pd\n",
    "import seaborn as sns\n",
    "import matplotlib.pyplot as plt\n",
    "import squarify\n",
    "plt.style.use('fivethirtyeight')\n",
    "import warnings\n",
    "warnings.filterwarnings('ignore')\n",
    "import numpy as np\n",
    "import plotly.offline as py\n",
    "py.init_notebook_mode(connected=True)\n",
    "import plotly.graph_objs as go\n",
    "import plotly.tools as tls\n",
    "import base64\n",
    "import io\n",
    "from scipy.misc import imread\n",
    "import codecs\n",
    "from IPython.display import HTML\n",
    "\n",
    "from subprocess import check_output"
   ]
  },
  {
   "cell_type": "code",
   "execution_count": null,
   "metadata": {},
   "outputs": [],
   "source": [
    "#Stroe CSV into DataFrame\n",
    "salary_file=\"/Users/macowner/Project_3/survey_results_public.csv\"\n",
    "salary_df = pd.read_csv(salary_file)\n",
    "salary_df.head()"
   ]
  },
  {
   "cell_type": "code",
   "execution_count": null,
   "metadata": {},
   "outputs": [],
   "source": [
    "salary_df_filtered = salary_df[salary_df['Country'] == 'United States']\n",
    "salary_df_filtered.head()"
   ]
  },
  {
   "cell_type": "code",
   "execution_count": null,
   "metadata": {},
   "outputs": [],
   "source": [
    "salary_df_filtered_new = salary_df_filtered[['Country', 'Age', 'Gender','Salary']].copy()\n",
    "salary_df_filtered_new.head()"
   ]
  },
  {
   "cell_type": "code",
   "execution_count": null,
   "metadata": {},
   "outputs": [],
   "source": [
    "salary_df_filtered_new.dropna(inplace = True) \n",
    "salary_df_filtered_new.head()"
   ]
  },
  {
   "cell_type": "code",
   "execution_count": null,
   "metadata": {},
   "outputs": [],
   "source": [
    "salary_df_filtered_new.dtypes"
   ]
  },
  {
   "cell_type": "code",
   "execution_count": 7,
   "metadata": {},
   "outputs": [],
   "source": [
    "salary_df_filtered_new[\"Salary\"]= salary_df_filtered_new[\"Salary\"].replace(\",\", \"\",regex=True)"
   ]
  },
  {
   "cell_type": "code",
   "execution_count": 8,
   "metadata": {},
   "outputs": [
    {
     "data": {
      "text/html": [
       "<div>\n",
       "<style scoped>\n",
       "    .dataframe tbody tr th:only-of-type {\n",
       "        vertical-align: middle;\n",
       "    }\n",
       "\n",
       "    .dataframe tbody tr th {\n",
       "        vertical-align: top;\n",
       "    }\n",
       "\n",
       "    .dataframe thead th {\n",
       "        text-align: right;\n",
       "    }\n",
       "</style>\n",
       "<table border=\"1\" class=\"dataframe\">\n",
       "  <thead>\n",
       "    <tr style=\"text-align: right;\">\n",
       "      <th></th>\n",
       "      <th>Country</th>\n",
       "      <th>Age</th>\n",
       "      <th>Gender</th>\n",
       "      <th>Salary</th>\n",
       "    </tr>\n",
       "  </thead>\n",
       "  <tbody>\n",
       "  </tbody>\n",
       "</table>\n",
       "</div>"
      ],
      "text/plain": [
       "Empty DataFrame\n",
       "Columns: [Country, Age, Gender, Salary]\n",
       "Index: []"
      ]
     },
     "execution_count": 8,
     "metadata": {},
     "output_type": "execute_result"
    }
   ],
   "source": [
    "salary_df_filtered_new[salary_df_filtered_new[\"Salary\"]==\"112,000.00\"]"
   ]
  },
  {
   "cell_type": "code",
   "execution_count": 9,
   "metadata": {},
   "outputs": [
    {
     "data": {
      "text/plain": [
       "Country     object\n",
       "Age         object\n",
       "Gender      object\n",
       "Salary     float64\n",
       "dtype: object"
      ]
     },
     "execution_count": 9,
     "metadata": {},
     "output_type": "execute_result"
    }
   ],
   "source": [
    "salary_df_filtered_new['Salary']= salary_df_filtered_new['Salary'].astype(float)\n",
    "salary_df_filtered_new.dtypes"
   ]
  },
  {
   "cell_type": "code",
   "execution_count": 19,
   "metadata": {},
   "outputs": [
    {
     "data": {
      "text/plain": [
       "Age\n",
       "18 - 24 years old     6.227774e+04\n",
       "25 - 34 years old     1.125516e+05\n",
       "35 - 44 years old     1.193244e+05\n",
       "45 - 54 years old     9.803922e+13\n",
       "55 - 64 years old     1.220737e+05\n",
       "65 years or older     9.060278e+04\n",
       "Under 18 years old    6.189585e+03\n",
       "Name: Salary, dtype: float64"
      ]
     },
     "execution_count": 19,
     "metadata": {},
     "output_type": "execute_result"
    }
   ],
   "source": [
    "salary_df_filtered_new_mean = salary_df_filtered_new.groupby([\"Age\"])['Salary'].mean()\n",
    "\n",
    "salary_df_filtered_new_mean.head(10)\n"
   ]
  },
  {
   "cell_type": "code",
   "execution_count": 20,
   "metadata": {},
   "outputs": [
    {
     "data": {
      "text/plain": [
       "Gender\n",
       "Female                                                                       8.632171e+04\n",
       "Female;Male                                                                  7.200000e+04\n",
       "Female;Male;Transgender;Non-binary, genderqueer, or gender non-conforming    1.877875e+04\n",
       "Female;Non-binary, genderqueer, or gender non-conforming                     7.649552e+04\n",
       "Female;Transgender                                                           1.146472e+05\n",
       "Female;Transgender;Non-binary, genderqueer, or gender non-conforming         8.703846e+04\n",
       "Male                                                                         9.023642e+12\n",
       "Male;Non-binary, genderqueer, or gender non-conforming                       8.856143e+04\n",
       "Male;Transgender                                                             9.167778e+04\n",
       "Male;Transgender;Non-binary, genderqueer, or gender non-conforming           1.150000e+05\n",
       "Name: Salary, dtype: float64"
      ]
     },
     "execution_count": 20,
     "metadata": {},
     "output_type": "execute_result"
    }
   ],
   "source": [
    "salary_df_filtered_new_gender = salary_df_filtered_new.groupby([\"Gender\"])['Salary'].mean()\n",
    "\n",
    "salary_df_filtered_new_gender.head(10)"
   ]
  },
  {
   "cell_type": "code",
   "execution_count": null,
   "metadata": {},
   "outputs": [],
   "source": []
  }
 ],
 "metadata": {
  "kernelspec": {
   "display_name": "Python 3",
   "language": "python",
   "name": "python3"
  },
  "language_info": {
   "codemirror_mode": {
    "name": "ipython",
    "version": 3
   },
   "file_extension": ".py",
   "mimetype": "text/x-python",
   "name": "python",
   "nbconvert_exporter": "python",
   "pygments_lexer": "ipython3",
   "version": "3.6.8"
  }
 },
 "nbformat": 4,
 "nbformat_minor": 2
}
