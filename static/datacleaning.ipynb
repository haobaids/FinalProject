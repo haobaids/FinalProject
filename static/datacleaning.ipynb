{
 "cells": [
  {
   "cell_type": "code",
   "execution_count": 21,
   "metadata": {},
   "outputs": [],
   "source": [
    "import pandas as pd\n",
    "import numpy as np\n",
    "import matplotlib.pyplot as plt\n",
    "import seaborn\n",
    "import re\n",
    "import sklearn\n",
    "from sklearn.feature_extraction.text import TfidfVectorizer\n",
    "from sklearn.preprocessing import LabelEncoder\n",
    "from nltk.stem import PorterStemmer\n",
    "from sklearn.model_selection import train_test_split\n",
    "from sklearn.svm import SVC\n",
    "from sklearn.metrics import accuracy_score,confusion_matrix\n",
    "from sklearn.linear_model import SGDClassifier\n",
    "from sklearn.ensemble import GradientBoostingClassifier\n",
    "from sklearn.naive_bayes import MultinomialNB"
   ]
  },
  {
   "cell_type": "code",
   "execution_count": 22,
   "metadata": {},
   "outputs": [],
   "source": [
    "import nltk"
   ]
  },
  {
   "cell_type": "code",
   "execution_count": 24,
   "metadata": {},
   "outputs": [
    {
     "data": {
      "text/html": [
       "<div>\n",
       "<style scoped>\n",
       "    .dataframe tbody tr th:only-of-type {\n",
       "        vertical-align: middle;\n",
       "    }\n",
       "\n",
       "    .dataframe tbody tr th {\n",
       "        vertical-align: top;\n",
       "    }\n",
       "\n",
       "    .dataframe thead th {\n",
       "        text-align: right;\n",
       "    }\n",
       "</style>\n",
       "<table border=\"1\" class=\"dataframe\">\n",
       "  <thead>\n",
       "    <tr style=\"text-align: right;\">\n",
       "      <th></th>\n",
       "      <th>position</th>\n",
       "      <th>company</th>\n",
       "      <th>description</th>\n",
       "      <th>reviews</th>\n",
       "      <th>location</th>\n",
       "    </tr>\n",
       "  </thead>\n",
       "  <tbody>\n",
       "    <tr>\n",
       "      <th>0</th>\n",
       "      <td>Development Director</td>\n",
       "      <td>ALS TDI</td>\n",
       "      <td>Development Director\\nALS Therapy Development ...</td>\n",
       "      <td>NaN</td>\n",
       "      <td>Atlanta, GA 30301</td>\n",
       "    </tr>\n",
       "    <tr>\n",
       "      <th>1</th>\n",
       "      <td>An Ostentatiously-Excitable Principal Research...</td>\n",
       "      <td>The Hexagon Lavish</td>\n",
       "      <td>Job Description\\n\\n\"The road that leads to acc...</td>\n",
       "      <td>NaN</td>\n",
       "      <td>Atlanta, GA</td>\n",
       "    </tr>\n",
       "    <tr>\n",
       "      <th>2</th>\n",
       "      <td>Data Scientist</td>\n",
       "      <td>Xpert Staffing</td>\n",
       "      <td>Growing company located in the Atlanta, GA are...</td>\n",
       "      <td>NaN</td>\n",
       "      <td>Atlanta, GA</td>\n",
       "    </tr>\n",
       "    <tr>\n",
       "      <th>3</th>\n",
       "      <td>Data Analyst</td>\n",
       "      <td>Operation HOPE</td>\n",
       "      <td>DEPARTMENT: Program OperationsPOSITION LOCATIO...</td>\n",
       "      <td>44.0</td>\n",
       "      <td>Atlanta, GA 30303</td>\n",
       "    </tr>\n",
       "    <tr>\n",
       "      <th>4</th>\n",
       "      <td>Assistant Professor -TT - Signal Processing &amp; ...</td>\n",
       "      <td>Emory University</td>\n",
       "      <td>DESCRIPTION\\nThe Emory University Department o...</td>\n",
       "      <td>550.0</td>\n",
       "      <td>Atlanta, GA</td>\n",
       "    </tr>\n",
       "  </tbody>\n",
       "</table>\n",
       "</div>"
      ],
      "text/plain": [
       "                                            position             company  \\\n",
       "0                               Development Director             ALS TDI   \n",
       "1  An Ostentatiously-Excitable Principal Research...  The Hexagon Lavish   \n",
       "2                                     Data Scientist      Xpert Staffing   \n",
       "3                                       Data Analyst      Operation HOPE   \n",
       "4  Assistant Professor -TT - Signal Processing & ...    Emory University   \n",
       "\n",
       "                                         description  reviews  \\\n",
       "0  Development Director\\nALS Therapy Development ...      NaN   \n",
       "1  Job Description\\n\\n\"The road that leads to acc...      NaN   \n",
       "2  Growing company located in the Atlanta, GA are...      NaN   \n",
       "3  DEPARTMENT: Program OperationsPOSITION LOCATIO...     44.0   \n",
       "4  DESCRIPTION\\nThe Emory University Department o...    550.0   \n",
       "\n",
       "             location  \n",
       "0  Atlanta, GA 30301   \n",
       "1         Atlanta, GA  \n",
       "2         Atlanta, GA  \n",
       "3  Atlanta, GA 30303   \n",
       "4         Atlanta, GA  "
      ]
     },
     "execution_count": 24,
     "metadata": {},
     "output_type": "execute_result"
    }
   ],
   "source": [
    "#Stroe CSV into DataFrame\n",
    "rawdata_file=\"../resources/data-scientist-job-market-in-the-us/alldata.csv\"\n",
    "rawdata_df = pd.read_csv(rawdata_file)\n",
    "rawdata_df.head()"
   ]
  },
  {
   "cell_type": "code",
   "execution_count": 25,
   "metadata": {},
   "outputs": [
    {
     "name": "stdout",
     "output_type": "stream",
     "text": [
      "Total number of firms with data science job vacancies 2213\n"
     ]
    }
   ],
   "source": [
    "total_no_company= rawdata_df['company'].nunique()\n",
    "print('Total number of firms with data science job vacancies',total_no_company)"
   ]
  },
  {
   "cell_type": "code",
   "execution_count": 27,
   "metadata": {},
   "outputs": [
    {
     "name": "stdout",
     "output_type": "stream",
     "text": [
      "Top 10 firms with most vacancies                                      company  position\n",
      "122                               Amazon.com       358\n",
      "230                           Ball Aerospace       187\n",
      "1270                               Microsoft       137\n",
      "866                                   Google       134\n",
      "1328                      NYU Langone Health        77\n",
      "798   Fred Hutchinson Cancer Research Center        70\n",
      "1095                                    KPMG        66\n",
      "1136                                  Lab126        50\n",
      "748                                 Facebook        49\n",
      "324                          Broad Institute        49\n"
     ]
    }
   ],
   "source": [
    "#finding highest number of vacancy in a company\n",
    "most_vacancy = rawdata_df.groupby(['company'])['position'].count()\n",
    "most_vacancy = most_vacancy.reset_index(name='position')\n",
    "most_vacancy = most_vacancy.sort_values(['position'],ascending=False)\n",
    "pareto_df = most_vacancy\n",
    "most_vacancy=most_vacancy.head(10)\n",
    "print('Top 10 firms with most vacancies',most_vacancy)"
   ]
  },
  {
   "cell_type": "code",
   "execution_count": 28,
   "metadata": {},
   "outputs": [
    {
     "data": {
      "text/plain": [
       "Text(0, 0.5, '# OF JOBS')"
      ]
     },
     "execution_count": 28,
     "metadata": {},
     "output_type": "execute_result"
    },
    {
     "data": {
      "image/png": "[encoded data removed]",
      "text/plain": [
       "<Figure size 720x432 with 1 Axes>"
      ]
     },
     "metadata": {
      "needs_background": "light"
     },
     "output_type": "display_data"
    }
   ],
   "source": [
    "# Plot graph for top most vacancy\n",
    "fig, ax = plt.subplots(figsize = (10,6))\n",
    "ax = seaborn.barplot(x = \"company\", y = \"position\", data= most_vacancy)    \n",
    "ax.set_xticklabels(most_vacancy['company'],rotation=90)  \n",
    "ax.set_xlabel('COMPANY WITH MOST JOBS',fontsize=16, color='red')\n",
    "ax.set_ylabel('# OF JOBS',fontsize=16,color='red') "
   ]
  },
  {
   "cell_type": "code",
   "execution_count": 30,
   "metadata": {},
   "outputs": [
    {
     "name": "stdout",
     "output_type": "stream",
     "text": [
      "Toatl number of roles across all the firms 5242\n",
      "Top 15 most wanted roles across firms                        position  company\n",
      "1026             Data Scientist      351\n",
      "3833      Senior Data Scientist       96\n",
      "3115           Research Analyst       64\n",
      "928               Data Engineer       60\n",
      "2152  Machine Learning Engineer       56\n",
      "2071        Lead Data Scientist       31\n",
      "3276         Research Scientist       30\n",
      "4685         Sr. Data Scientist       28\n",
      "2660   Principal Data Scientist       24\n",
      "879                Data Analyst       22\n",
      "4443          Software Engineer       22\n",
      "2977       Quantitative Analyst       21\n",
      "3486                  Scientist       17\n",
      "2837            Product Manager       17\n",
      "495    Bioinformatics Scientist       16\n"
     ]
    }
   ],
   "source": [
    "# Finding total number of unique roles in data science domain from the given dataset\n",
    "total_no_roles= datasci_df['position'].nunique()\n",
    "print('Toatl number of roles across all the firms',total_no_roles)\n",
    "\n",
    "# most offered roles across all the firms\n",
    "most_offd_roles=datasci_df.groupby(['position'])['company'].count()   \n",
    "most_offd_roles=most_offd_roles.reset_index(name='company')\n",
    "most_offd_roles=most_offd_roles.sort_values(['company'],ascending=False)\n",
    "most_offd_roles=most_offd_roles.head(15)\n",
    "print('Top 15 most wanted roles across firms',most_offd_roles)"
   ]
  },
  {
   "cell_type": "code",
   "execution_count": 31,
   "metadata": {},
   "outputs": [
    {
     "data": {
      "text/plain": [
       "Text(0, 0.5, 'NO OF ROLES ACROSS INDUSTRY')"
      ]
     },
     "execution_count": 31,
     "metadata": {},
     "output_type": "execute_result"
    },
    {
     "data": {
      "image/png": "[encoded data removed]",
      "text/plain": [
       "<Figure size 864x432 with 1 Axes>"
      ]
     },
     "metadata": {
      "needs_background": "light"
     },
     "output_type": "display_data"
    }
   ],
   "source": [
    "# Plot graph for top most offered roles\n",
    "fig,ax=plt.subplots(figsize=(12,6))\n",
    "ax=seaborn.barplot(x=\"position\", y=\"company\", data=most_offd_roles)    \n",
    "ax.set_xticklabels(most_offd_roles['position'],rotation=90)\n",
    "ax.set_xlabel('MOST WANTED JOB ROLES',fontsize=20,color='red')\n",
    "ax.set_ylabel('NO OF ROLES ACROSS INDUSTRY',fontsize=16,color='red')"
   ]
  },
  {
   "cell_type": "code",
   "execution_count": 11,
   "metadata": {},
   "outputs": [
    {
     "name": "stdout",
     "output_type": "stream",
     "text": [
      "Here is  the count of each new roles we created : \n",
      "\n",
      "                     position  company\n",
      "2             Data Scientist     2645\n",
      "3  Machine Learning Engineer     1384\n",
      "4                     Others     1295\n",
      "0               Data Analyst      848\n",
      "1       Data Science Manager      781\n"
     ]
    }
   ],
   "source": [
    "#MACHINE LEARNING\n",
    "#there are so many job profiles in teh given dataset so lets Categories them into 5; \n",
    "#Data Scientist, Machine Learning Engineer, Data Analyst, \n",
    "#Data Science Manager and Others\n",
    "\n",
    "# Creating only 5 datascience roles among all\n",
    "data=datasci_df.copy()\n",
    "data.dropna(subset=['position'], how='all', inplace = True)\n",
    "data['position']=[x.upper() for x in data['position']]\n",
    "data['description']=[x.upper() for x in data['description']]\n",
    "\n",
    "data.loc[data.position.str.contains(\"SCIENTIST\"), 'position'] = 'Data Scientist'\n",
    "\n",
    "data.loc[data.position.str.contains('ENGINEER'),'position']='Machine Learning Engineer'\n",
    "data.loc[data.position.str.contains('PRINCIPAL STATISTICAL PROGRAMMER'),'position']='Machine Learning Engineer'\n",
    "data.loc[data.position.str.contains('PROGRAMMER'),'position']='Machine Learning Engineer'\n",
    "data.loc[data.position.str.contains('DEVELOPER'),'position']='Machine Learning Engineer'\n",
    "\n",
    "data.loc[data.position.str.contains('ANALYST'), 'position'] = 'Data Analyst'\n",
    "data.loc[data.position.str.contains('STATISTICIAN'), 'position'] = 'Data Analyst'\n",
    "\n",
    "data.loc[data.position.str.contains('MANAGER'),'position']='Data Science Manager'\n",
    "data.loc[data.position.str.contains('CONSULTANT'),'position']='Data Science Manager'\n",
    "data.loc[data.position.str.contains('DATA SCIENCE'),'position']='Data Science Manager'\n",
    "data.loc[data.position.str.contains('DIRECTOR'),'position']='Data Science Manager'\n",
    "data.position=data[(data.position == 'Data Scientist') | (data.position == 'Data Analyst') | (data.position == 'Machine Learning Engineer') | (data.position == 'Data Science Manager')]\n",
    "data.position=['Others' if x is np.nan else x for x in data.position]\n",
    "\n",
    "position=data.groupby(['position'])['company'].count()   \n",
    "position=position.reset_index(name='company')\n",
    "position=position.sort_values(['company'],ascending=False)\n",
    "\n",
    "print('Here is  the count of each new roles we created :', '\\n\\n', position)\n"
   ]
  },
  {
   "cell_type": "code",
   "execution_count": 12,
   "metadata": {},
   "outputs": [],
   "source": [
    "# Data Cleansing\n",
    "X=data.description\n",
    "Y=data.position\n",
    "\n",
    "X=[re.sub(r\"[^a-zA-Z0-9]+\", ' ', k) for k in X]\n",
    "X=[re.sub(\"[0-9]+\",' ',k) for k in X]\n",
    "\n",
    "#applying stemmer\n",
    "ps =PorterStemmer()\n",
    "X=[ps.stem(k) for k in X]\n",
    "\n",
    "#Note: I have not removed stop words because there are important key words mentioned in job description which are of length 2, I feel they have weightage while classifing\n",
    "tfidf=TfidfVectorizer()\n",
    "label_enc=LabelEncoder()\n",
    "\n",
    "X=tfidf.fit_transform(X)\n",
    "Y=label_enc.fit_transform(Y)"
   ]
  },
  {
   "cell_type": "code",
   "execution_count": 32,
   "metadata": {},
   "outputs": [],
   "source": [
    "#Save DataFrame into CSV\n",
    "cleandata_file=\"../resources/data-scientist-job-market-in-the-us/cleandata.csv\"\n",
    "data.to_csv(cleandata_file)"
   ]
  },
  {
   "cell_type": "code",
   "execution_count": null,
   "metadata": {},
   "outputs": [],
   "source": []
  }
 ],
 "metadata": {
  "kernelspec": {
   "display_name": "Python 3",
   "language": "python",
   "name": "python3"
  },
  "language_info": {
   "codemirror_mode": {
    "name": "ipython",
    "version": 3
   },
   "file_extension": ".py",
   "mimetype": "text/x-python",
   "name": "python",
   "nbconvert_exporter": "python",
   "pygments_lexer": "ipython3",
   "version": "3.7.1"
  }
 },
 "nbformat": 4,
 "nbformat_minor": 2
}
